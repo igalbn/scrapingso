{
 "cells": [
  {
   "cell_type": "code",
   "execution_count": null,
   "metadata": {},
   "outputs": [],
   "source": [
    "import pandas as pd\n",
    "import matplotlib.pyplot as plt\n",
    "from bs4 import BeautifulSoup\n",
    "import time \n",
    "import os\n",
    "\n",
    "FOLDER_PATH = 'folder-path-here'\n",
    "\n",
    "NUMBER_ZERO = 0\n",
    "NUMBER_ONE = 1\n",
    "BLANK_STRING = ''\n",
    "\n",
    "# pd.set_option('display.max_rows', None)\n",
    "\n",
    "SITE_FILE_NAME ='single-txt-file-here' # single txt file name\n",
    "\n",
    "saved_file_name = 'car_companies_tiktok_signle' # csv file with results\n",
    "task_mode = 'all' #'all' or 'single'. Read all or single text file"
   ]
  },
  {
   "cell_type": "code",
   "execution_count": null,
   "metadata": {},
   "outputs": [],
   "source": [
    "def read_files_names():\n",
    "    files = os.listdir(FOLDER_PATH)\n",
    "    file_names = [file for file in files if os.path.isfile(os.path.join(FOLDER_PATH, file))]\n",
    "\n",
    "    # check that contain only txt files\n",
    "    clean_files_names = [] # only names of txt files\n",
    "    for i in range(len(file_names)):\n",
    "        pass\n",
    "        if file_names[i][-4:] == '.txt':\n",
    "            pass\n",
    "            clean_files_names.append(file_names[i][:-4])\n",
    "        else:\n",
    "            print(file_names[i], ': not a txt file')\n",
    "\n",
    "    clean_files_names.sort() # sort names in abc order\n",
    "    print(clean_files_names)\n",
    "    return clean_files_names\n",
    "\n",
    "files_names = read_files_names()"
   ]
  },
  {
   "cell_type": "code",
   "execution_count": null,
   "metadata": {},
   "outputs": [],
   "source": [
    "soup = None\n",
    "\n",
    "def read_the_file(file_name = SITE_FILE_NAME):\n",
    "   global soup\n",
    "   file_format = 'txt' # txt html\n",
    "   file_path = f'{FOLDER_PATH}{file_name}.{file_format}'\n",
    "   with open(file_path) as f:\n",
    "      soup = BeautifulSoup(f, \"html.parser\")\n",
    "   \n",
    "read_the_file(SITE_FILE_NAME)"
   ]
  },
  {
   "cell_type": "code",
   "execution_count": null,
   "metadata": {},
   "outputs": [],
   "source": [
    "soup.title.text"
   ]
  },
  {
   "cell_type": "code",
   "execution_count": null,
   "metadata": {},
   "outputs": [],
   "source": [
    "items = soup.find_all('div',{'class':'tiktok-x6y88p-DivItemContainerV2 e19c29qe9'})\n",
    "items_num = len(items)\n",
    "items_num"
   ]
  },
  {
   "cell_type": "code",
   "execution_count": null,
   "metadata": {},
   "outputs": [],
   "source": [
    "default_columns_names = ['views','description','img_alt','video_link','thumbnail_link','warn_info'] # without 'name'\n",
    "columns_names = default_columns_names\n",
    "\n",
    "df = pd.DataFrame(columns=columns_names)\n",
    "df"
   ]
  },
  {
   "cell_type": "code",
   "execution_count": null,
   "metadata": {},
   "outputs": [],
   "source": [
    "def make_item(item, p_name = BLANK_STRING):\n",
    "    pass\n",
    "    views = BLANK_STRING\n",
    "    if (len(item.find_all('strong',{'class':'video-count'})) > NUMBER_ZERO):\n",
    "        views = item.find_all('strong',{'class':'video-count'})[NUMBER_ZERO].text\n",
    "        views = views.strip()\n",
    "\n",
    "    description = BLANK_STRING\n",
    "    if (len(item.find_all('span',{'class':'tiktok-j2a19r-SpanText efbd9f0'})) > NUMBER_ZERO):\n",
    "        description = item.find_all('span',{'class':'tiktok-j2a19r-SpanText efbd9f0'})[NUMBER_ZERO].text\n",
    "\n",
    "\n",
    "    img_alt = BLANK_STRING\n",
    "    if (len(item.find_all('img')) > NUMBER_ZERO):\n",
    "        img_alt = item.find('img')['alt']  \n",
    "        img_alt = img_alt.strip()\n",
    "    video_link = BLANK_STRING  \n",
    "    # This code don't capture video links for video with warning message.\n",
    "    if (len(item.find_all('a',{'class':'tiktok-1wrhn5c-AMetaCaptionLine eih2qak0'})) > NUMBER_ZERO):\n",
    "        video_link = item.find('a',{'class':'tiktok-1wrhn5c-AMetaCaptionLine eih2qak0'})['href']\n",
    "        video_link = video_link.strip()\n",
    "        \n",
    "\n",
    "    thumbnail_link = BLANK_STRING\n",
    "    if (len(item.find_all('img')) > NUMBER_ZERO):\n",
    "        thumbnail_link = item.find('img')['src']  \n",
    "        thumbnail_link = thumbnail_link.strip()\n",
    "\n",
    "\n",
    "    warn_info = BLANK_STRING\n",
    "    if (len(item.find_all('div',{'class':'tiktok-1x4dinl-DivWarnInfoContent e7o5pyu4'})) > NUMBER_ZERO):\n",
    "        warn_info = item.find('div',{'class':'tiktok-1x4dinl-DivWarnInfoContent e7o5pyu4'}).text\n",
    "        warn_info = warn_info.strip()    \n",
    "    \n",
    "\n",
    "    row = [views,description,img_alt,video_link,thumbnail_link, warn_info]\n",
    "    if ('name' in df.columns):\n",
    "        row.insert(NUMBER_ZERO,p_name)\n",
    "        \n",
    "    df.loc[len(df)] = row\n",
    "\n",
    "def all_items(page_name = BLANK_STRING):\n",
    "    for i in range(items_num):\n",
    "        make_item(items[i], page_name)\n",
    "        # print('i ', i)\n"
   ]
  },
  {
   "cell_type": "code",
   "execution_count": null,
   "metadata": {},
   "outputs": [],
   "source": [
    "if (task_mode == 'all'): \n",
    "    columns_names.insert(NUMBER_ZERO,'name')\n",
    "\n",
    "df = pd.DataFrame(columns=columns_names)\n",
    "\n",
    "def all_files():\n",
    "    global items, items_num\n",
    "    \n",
    "    for i in files_names:\n",
    "        print(i)\n",
    "        read_the_file(i)\n",
    "        time.sleep(2)\n",
    "        items = soup.find_all('div',{'class':'tiktok-x6y88p-DivItemContainerV2 e19c29qe9'})\n",
    "        items_num = len(items)\n",
    "        all_items(i)\n",
    "\n",
    "if (task_mode == 'all'):\n",
    "    all_files()\n",
    "elif(task_mode == 'single'):\n",
    "    all_items()\n",
    "\n"
   ]
  },
  {
   "cell_type": "code",
   "execution_count": null,
   "metadata": {},
   "outputs": [],
   "source": [
    "df.shape"
   ]
  },
  {
   "cell_type": "code",
   "execution_count": null,
   "metadata": {},
   "outputs": [],
   "source": [
    "df.head(2)"
   ]
  },
  {
   "cell_type": "code",
   "execution_count": null,
   "metadata": {},
   "outputs": [],
   "source": [
    "df.tail(2)"
   ]
  },
  {
   "cell_type": "code",
   "execution_count": null,
   "metadata": {},
   "outputs": [],
   "source": [
    "df.to_csv(saved_file_name + '.csv',index=False)"
   ]
  }
 ],
 "metadata": {
  "kernelspec": {
   "display_name": "venv",
   "language": "python",
   "name": "python3"
  },
  "language_info": {
   "codemirror_mode": {
    "name": "ipython",
    "version": 3
   },
   "file_extension": ".py",
   "mimetype": "text/x-python",
   "name": "python",
   "nbconvert_exporter": "python",
   "pygments_lexer": "ipython3",
   "version": "3.7.6"
  },
  "orig_nbformat": 4
 },
 "nbformat": 4,
 "nbformat_minor": 2
}
